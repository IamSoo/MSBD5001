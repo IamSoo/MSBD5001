{
 "cells": [
  {
   "cell_type": "code",
   "execution_count": 1,
   "metadata": {
    "collapsed": true
   },
   "outputs": [],
   "source": [
    "import numpy as np\n",
    "import pandas as pd\n",
    "import seaborn as sb\n",
    "from sklearn import datasets\n",
    "from sklearn.model_selection import train_test_split\n",
    "from sklearn.preprocessing import StandardScaler\n",
    "from sklearn.metrics import accuracy_score\n",
    "from sklearn.linear_model import Perceptron\n",
    "import matplotlib.pyplot as plt\n",
    "%matplotlib inline\n",
    "from sklearn.neural_network import MLPRegressor\n",
    "from sklearn import preprocessing as pre\n",
    "from sklearn.metrics import classification_report,confusion_matrix\n"
   ]
  },
  {
   "cell_type": "code",
   "execution_count": 2,
   "metadata": {
    "collapsed": true
   },
   "outputs": [],
   "source": [
    "#load the data\n",
    "train_pd = pd.read_csv(\"train.csv\")\n",
    "test_pd = pd.read_csv(\"test.csv\")\n"
   ]
  },
  {
   "cell_type": "code",
   "execution_count": 3,
   "metadata": {
    "collapsed": true
   },
   "outputs": [],
   "source": [
    "#Id Column is not required \n",
    "X_before_train = train_pd.drop(['id','time'],axis=1)\n",
    "y_before_train = train_pd['time']\n",
    "\n",
    "x_to_be_preicted = test_pd.drop('id',axis=1)"
   ]
  },
  {
   "cell_type": "code",
   "execution_count": 4,
   "metadata": {
    "collapsed": true
   },
   "outputs": [],
   "source": [
    "#Hot encoding for  penalty column\n",
    "train_pd_encoded = pd.get_dummies(X_before_train, columns=['penalty'])\n",
    "\n",
    "#testing data\n",
    "test_pd_encoded = pd.get_dummies(x_to_be_preicted, columns=['penalty'])"
   ]
  },
  {
   "cell_type": "code",
   "execution_count": 5,
   "metadata": {},
   "outputs": [
    {
     "data": {
      "text/html": [
       "<div>\n",
       "<style>\n",
       "    .dataframe thead tr:only-child th {\n",
       "        text-align: right;\n",
       "    }\n",
       "\n",
       "    .dataframe thead th {\n",
       "        text-align: left;\n",
       "    }\n",
       "\n",
       "    .dataframe tbody tr th {\n",
       "        vertical-align: top;\n",
       "    }\n",
       "</style>\n",
       "<table border=\"1\" class=\"dataframe\">\n",
       "  <thead>\n",
       "    <tr style=\"text-align: right;\">\n",
       "      <th></th>\n",
       "      <th>l1_ratio</th>\n",
       "      <th>alpha</th>\n",
       "      <th>max_iter</th>\n",
       "      <th>random_state</th>\n",
       "      <th>n_jobs</th>\n",
       "      <th>n_samples</th>\n",
       "      <th>n_features</th>\n",
       "      <th>n_classes</th>\n",
       "      <th>n_clusters_per_class</th>\n",
       "      <th>n_informative</th>\n",
       "      <th>flip_y</th>\n",
       "      <th>scale</th>\n",
       "      <th>penalty_elasticnet</th>\n",
       "      <th>penalty_l1</th>\n",
       "      <th>penalty_l2</th>\n",
       "      <th>penalty_none</th>\n",
       "    </tr>\n",
       "  </thead>\n",
       "  <tbody>\n",
       "    <tr>\n",
       "      <th>0</th>\n",
       "      <td>0.304083</td>\n",
       "      <td>0.0001</td>\n",
       "      <td>417</td>\n",
       "      <td>475</td>\n",
       "      <td>-1</td>\n",
       "      <td>1089</td>\n",
       "      <td>327</td>\n",
       "      <td>4</td>\n",
       "      <td>3</td>\n",
       "      <td>7</td>\n",
       "      <td>0.074798</td>\n",
       "      <td>24.242009</td>\n",
       "      <td>0</td>\n",
       "      <td>0</td>\n",
       "      <td>0</td>\n",
       "      <td>1</td>\n",
       "    </tr>\n",
       "    <tr>\n",
       "      <th>1</th>\n",
       "      <td>0.727744</td>\n",
       "      <td>0.0010</td>\n",
       "      <td>578</td>\n",
       "      <td>569</td>\n",
       "      <td>1</td>\n",
       "      <td>790</td>\n",
       "      <td>373</td>\n",
       "      <td>4</td>\n",
       "      <td>5</td>\n",
       "      <td>7</td>\n",
       "      <td>0.077781</td>\n",
       "      <td>54.626302</td>\n",
       "      <td>0</td>\n",
       "      <td>1</td>\n",
       "      <td>0</td>\n",
       "      <td>0</td>\n",
       "    </tr>\n",
       "    <tr>\n",
       "      <th>2</th>\n",
       "      <td>0.745885</td>\n",
       "      <td>0.0100</td>\n",
       "      <td>588</td>\n",
       "      <td>529</td>\n",
       "      <td>2</td>\n",
       "      <td>428</td>\n",
       "      <td>1198</td>\n",
       "      <td>2</td>\n",
       "      <td>5</td>\n",
       "      <td>6</td>\n",
       "      <td>0.030196</td>\n",
       "      <td>17.999964</td>\n",
       "      <td>0</td>\n",
       "      <td>0</td>\n",
       "      <td>0</td>\n",
       "      <td>1</td>\n",
       "    </tr>\n",
       "    <tr>\n",
       "      <th>3</th>\n",
       "      <td>0.474605</td>\n",
       "      <td>0.0010</td>\n",
       "      <td>829</td>\n",
       "      <td>103</td>\n",
       "      <td>4</td>\n",
       "      <td>877</td>\n",
       "      <td>313</td>\n",
       "      <td>6</td>\n",
       "      <td>5</td>\n",
       "      <td>7</td>\n",
       "      <td>0.057261</td>\n",
       "      <td>82.257222</td>\n",
       "      <td>0</td>\n",
       "      <td>0</td>\n",
       "      <td>0</td>\n",
       "      <td>1</td>\n",
       "    </tr>\n",
       "    <tr>\n",
       "      <th>4</th>\n",
       "      <td>0.395049</td>\n",
       "      <td>0.0010</td>\n",
       "      <td>167</td>\n",
       "      <td>418</td>\n",
       "      <td>2</td>\n",
       "      <td>216</td>\n",
       "      <td>644</td>\n",
       "      <td>8</td>\n",
       "      <td>5</td>\n",
       "      <td>11</td>\n",
       "      <td>0.073728</td>\n",
       "      <td>95.515601</td>\n",
       "      <td>1</td>\n",
       "      <td>0</td>\n",
       "      <td>0</td>\n",
       "      <td>0</td>\n",
       "    </tr>\n",
       "  </tbody>\n",
       "</table>\n",
       "</div>"
      ],
      "text/plain": [
       "   l1_ratio   alpha  max_iter  random_state  n_jobs  n_samples  n_features  \\\n",
       "0  0.304083  0.0001       417           475      -1       1089         327   \n",
       "1  0.727744  0.0010       578           569       1        790         373   \n",
       "2  0.745885  0.0100       588           529       2        428        1198   \n",
       "3  0.474605  0.0010       829           103       4        877         313   \n",
       "4  0.395049  0.0010       167           418       2        216         644   \n",
       "\n",
       "   n_classes  n_clusters_per_class  n_informative    flip_y      scale  \\\n",
       "0          4                     3              7  0.074798  24.242009   \n",
       "1          4                     5              7  0.077781  54.626302   \n",
       "2          2                     5              6  0.030196  17.999964   \n",
       "3          6                     5              7  0.057261  82.257222   \n",
       "4          8                     5             11  0.073728  95.515601   \n",
       "\n",
       "   penalty_elasticnet  penalty_l1  penalty_l2  penalty_none  \n",
       "0                   0           0           0             1  \n",
       "1                   0           1           0             0  \n",
       "2                   0           0           0             1  \n",
       "3                   0           0           0             1  \n",
       "4                   1           0           0             0  "
      ]
     },
     "execution_count": 5,
     "metadata": {},
     "output_type": "execute_result"
    }
   ],
   "source": [
    "train_pd_encoded.head(5)"
   ]
  },
  {
   "cell_type": "code",
   "execution_count": 6,
   "metadata": {
    "collapsed": true
   },
   "outputs": [],
   "source": [
    "train_pd_encoded['feature_sample'] = train_pd_encoded['n_features'] * train_pd_encoded['n_samples']\n",
    "train_pd_encoded.drop(['n_features','n_samples'],inplace=True,axis=1)"
   ]
  },
  {
   "cell_type": "code",
   "execution_count": 7,
   "metadata": {
    "collapsed": true
   },
   "outputs": [],
   "source": [
    "test_pd_encoded['feature_sample'] = test_pd_encoded['n_features'] * test_pd_encoded['n_samples']\n",
    "test_pd_encoded.drop(['n_features','n_samples'],inplace=True,axis=1)"
   ]
  },
  {
   "cell_type": "code",
   "execution_count": 8,
   "metadata": {
    "collapsed": true
   },
   "outputs": [],
   "source": [
    "#n_jobs -1 is the max value so we need to make it max of the list of values.\n",
    "\n",
    "test_pd_encoded.loc[test_pd_encoded['n_jobs']==-1,'n_jobs'] = test_pd_encoded.n_jobs.max()+1\n",
    "train_pd_encoded.loc[train_pd_encoded['n_jobs']==-1,'n_jobs'] = train_pd_encoded.n_jobs.max()+1"
   ]
  },
  {
   "cell_type": "code",
   "execution_count": 9,
   "metadata": {
    "collapsed": true
   },
   "outputs": [],
   "source": [
    "train_pd_encoded['n_classes'] = train_pd_encoded.n_classes.astype('category')\n",
    "train_pd_encoded['n_clusters_per_class'] = train_pd_encoded.n_clusters_per_class.astype('category')\n",
    "train_pd_encoded['n_informative'] = train_pd_encoded.n_informative.astype('category')\n",
    "#make the data type as float\n",
    "train_pd_encoded['max_iter'] = train_pd_encoded.max_iter.astype(float)\n",
    "train_pd_encoded['random_state'] = train_pd_encoded.random_state.astype(float)\n",
    "\n",
    "#testing data\n",
    "test_pd_encoded['n_classes'] = test_pd_encoded.n_classes.astype('category')\n",
    "test_pd_encoded['n_clusters_per_class'] = test_pd_encoded.n_clusters_per_class.astype('category')\n",
    "test_pd_encoded['n_informative'] = test_pd_encoded.n_informative.astype('category')\n",
    "#make the data type as float\n",
    "test_pd_encoded['max_iter'] = test_pd_encoded.max_iter.astype(float)\n",
    "test_pd_encoded['random_state'] = test_pd_encoded.random_state.astype(float)\n"
   ]
  },
  {
   "cell_type": "code",
   "execution_count": 10,
   "metadata": {
    "collapsed": true
   },
   "outputs": [],
   "source": [
    "scaler = pre.StandardScaler()\n",
    "#scaler = pre.RobustScaler()"
   ]
  },
  {
   "cell_type": "code",
   "execution_count": 11,
   "metadata": {
    "collapsed": true
   },
   "outputs": [],
   "source": [
    "test_pd_encoded['alpha'] = test_pd_encoded.alpha.astype('category')\n",
    "train_pd_encoded['alpha'] = train_pd_encoded.alpha.astype('category')\n",
    "\n",
    "train_pd_encoded['n_jobs'] = train_pd_encoded.n_jobs.astype('category')\n",
    "test_pd_encoded['n_jobs'] = test_pd_encoded.n_jobs.astype('category')"
   ]
  },
  {
   "cell_type": "code",
   "execution_count": 12,
   "metadata": {},
   "outputs": [
    {
     "data": {
      "text/html": [
       "<div>\n",
       "<style>\n",
       "    .dataframe thead tr:only-child th {\n",
       "        text-align: right;\n",
       "    }\n",
       "\n",
       "    .dataframe thead th {\n",
       "        text-align: left;\n",
       "    }\n",
       "\n",
       "    .dataframe tbody tr th {\n",
       "        vertical-align: top;\n",
       "    }\n",
       "</style>\n",
       "<table border=\"1\" class=\"dataframe\">\n",
       "  <thead>\n",
       "    <tr style=\"text-align: right;\">\n",
       "      <th></th>\n",
       "      <th>l1_ratio</th>\n",
       "      <th>alpha</th>\n",
       "      <th>max_iter</th>\n",
       "      <th>random_state</th>\n",
       "      <th>n_jobs</th>\n",
       "      <th>n_classes</th>\n",
       "      <th>n_clusters_per_class</th>\n",
       "      <th>n_informative</th>\n",
       "      <th>flip_y</th>\n",
       "      <th>scale</th>\n",
       "      <th>penalty_elasticnet</th>\n",
       "      <th>penalty_l1</th>\n",
       "      <th>penalty_l2</th>\n",
       "      <th>penalty_none</th>\n",
       "      <th>feature_sample</th>\n",
       "    </tr>\n",
       "  </thead>\n",
       "  <tbody>\n",
       "    <tr>\n",
       "      <th>0</th>\n",
       "      <td>0.304083</td>\n",
       "      <td>0.0001</td>\n",
       "      <td>417.0</td>\n",
       "      <td>475.0</td>\n",
       "      <td>9</td>\n",
       "      <td>4</td>\n",
       "      <td>3</td>\n",
       "      <td>7</td>\n",
       "      <td>0.074798</td>\n",
       "      <td>24.242009</td>\n",
       "      <td>0</td>\n",
       "      <td>0</td>\n",
       "      <td>0</td>\n",
       "      <td>1</td>\n",
       "      <td>356103</td>\n",
       "    </tr>\n",
       "    <tr>\n",
       "      <th>1</th>\n",
       "      <td>0.727744</td>\n",
       "      <td>0.0010</td>\n",
       "      <td>578.0</td>\n",
       "      <td>569.0</td>\n",
       "      <td>1</td>\n",
       "      <td>4</td>\n",
       "      <td>5</td>\n",
       "      <td>7</td>\n",
       "      <td>0.077781</td>\n",
       "      <td>54.626302</td>\n",
       "      <td>0</td>\n",
       "      <td>1</td>\n",
       "      <td>0</td>\n",
       "      <td>0</td>\n",
       "      <td>294670</td>\n",
       "    </tr>\n",
       "  </tbody>\n",
       "</table>\n",
       "</div>"
      ],
      "text/plain": [
       "   l1_ratio   alpha  max_iter  random_state n_jobs n_classes  \\\n",
       "0  0.304083  0.0001     417.0         475.0      9         4   \n",
       "1  0.727744  0.0010     578.0         569.0      1         4   \n",
       "\n",
       "  n_clusters_per_class n_informative    flip_y      scale  penalty_elasticnet  \\\n",
       "0                    3             7  0.074798  24.242009                   0   \n",
       "1                    5             7  0.077781  54.626302                   0   \n",
       "\n",
       "   penalty_l1  penalty_l2  penalty_none  feature_sample  \n",
       "0           0           0             1          356103  \n",
       "1           1           0             0          294670  "
      ]
     },
     "execution_count": 12,
     "metadata": {},
     "output_type": "execute_result"
    }
   ],
   "source": [
    "train_pd_encoded.head(2)"
   ]
  },
  {
   "cell_type": "code",
   "execution_count": 13,
   "metadata": {
    "collapsed": true
   },
   "outputs": [],
   "source": [
    "#model train test \n",
    "X_train, X_test, y_train, y_test = train_test_split(train_pd_encoded, y_before_train,test_size=0.25, random_state=0)"
   ]
  },
  {
   "cell_type": "code",
   "execution_count": 14,
   "metadata": {},
   "outputs": [
    {
     "name": "stdout",
     "output_type": "stream",
     "text": [
      "Testing set score: 0.875956\n",
      "Training set score: 0.989281\n"
     ]
    },
    {
     "data": {
      "text/plain": [
       "array([ 1.57159638, 15.14941498,  0.30022846,  2.41776974,  8.02467734,\n",
       "        7.72007247,  3.59200967,  0.51478193, 14.16357516,  0.33292911,\n",
       "        8.03547922,  6.02758302,  0.3992456 , 31.25027415,  0.35392951,\n",
       "        0.88051138,  0.9968097 , 15.09506171,  3.76776247,  1.1425106 ,\n",
       "        0.43603279,  0.46218871,  0.28226729,  0.83067999,  1.23898779,\n",
       "        3.99595781,  1.54233715,  2.54973215,  3.38455506,  3.15432402,\n",
       "       19.79814546,  1.87970757,  0.28371907, 10.9452285 ,  5.73496831,\n",
       "        0.51630897,  2.89618191,  2.36496819,  0.81783566,  1.11612249,\n",
       "        5.28401503, 25.5111477 ,  1.1234557 ,  5.16514122,  0.97917709,\n",
       "        3.13360659,  2.57877136,  1.52119165,  9.37555289,  0.60341301,\n",
       "        0.35772003, 24.39264101,  0.3200499 ,  5.9624891 , 21.7367936 ,\n",
       "        0.39269361,  1.18314843,  0.63795452,  0.50110599,  2.52616819,\n",
       "        5.96553827,  6.62322341,  0.3408883 ,  6.78551905,  3.94312044,\n",
       "        8.23181394,  2.19140362,  0.2724529 ,  7.21946621,  0.70669213,\n",
       "        0.43979679,  0.85991149, 14.9109176 ,  0.30827359, 18.03139902,\n",
       "        4.78165222,  0.78756635,  5.87758926,  5.36016316,  2.10038884,\n",
       "        5.21217765, 11.05146228, 12.28505979,  0.5566414 ,  1.18313052,\n",
       "       10.9645236 ,  5.79168406,  0.93433887,  3.8505169 ,  1.12781672,\n",
       "        2.96892322,  0.74128567,  1.29395696, 18.91212785,  5.36599871,\n",
       "        5.18562519, 45.02718059,  0.31498977,  1.04101903,  0.2409973 ])"
      ]
     },
     "execution_count": 14,
     "metadata": {},
     "output_type": "execute_result"
    }
   ],
   "source": [
    "mlp = MLPRegressor(solver='lbfgs', \n",
    "                   activation='relu',\n",
    "                   hidden_layer_sizes=(8,8), \n",
    "                   max_iter=1000,\n",
    "                   learning_rate='constant', \n",
    "                   learning_rate_init=1,\n",
    "                   alpha=10,\n",
    "                   random_state=58)\n",
    "\n",
    "scaler.fit(X_train)\n",
    "X_train_scaled = scaler.transform(X_train)\n",
    "X_test_scaled = scaler.transform(X_test)\n",
    "\n",
    "scaled_to_be_predicted =  scaler.transform(test_pd_encoded)\n",
    "\n",
    "mlp.fit(X_train_scaled,y_train)\n",
    "\n",
    "print(\"Testing set score: %f\" % mlp.score(X_test_scaled, y_test))\n",
    "print(\"Training set score: %f\" % mlp.score(X_train_scaled, y_train))\n",
    "\n",
    "final_predicted = mlp.predict(scaled_to_be_predicted)\n",
    "final_predicted"
   ]
  },
  {
   "cell_type": "code",
   "execution_count": 15,
   "metadata": {
    "collapsed": true
   },
   "outputs": [],
   "source": [
    "##predicted has some -ve values, so use the mean values\n",
    "final_predict_df = pd.DataFrame({'Time' : (final_predicted)})\n",
    "final_predict_df.index.name = 'Id'\n",
    "predicted_mean = final_predicted.mean()\n",
    "final_predict_df[final_predict_df<0] = 0\n",
    "final_predict_df.to_csv('submit_final.csv')\n"
   ]
  },
  {
   "cell_type": "code",
   "execution_count": null,
   "metadata": {
    "collapsed": true
   },
   "outputs": [],
   "source": []
  }
 ],
 "metadata": {
  "kernelspec": {
   "display_name": "Python 3",
   "language": "python",
   "name": "python3"
  },
  "language_info": {
   "codemirror_mode": {
    "name": "ipython",
    "version": 3
   },
   "file_extension": ".py",
   "mimetype": "text/x-python",
   "name": "python",
   "nbconvert_exporter": "python",
   "pygments_lexer": "ipython3",
   "version": "3.6.6"
  }
 },
 "nbformat": 4,
 "nbformat_minor": 2
}
